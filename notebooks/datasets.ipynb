{
 "cells": [
  {
   "cell_type": "code",
   "execution_count": 33,
   "id": "38b95e01",
   "metadata": {},
   "outputs": [],
   "source": [
    "from autogluon.tabular import TabularDataset, TabularPredictor\n",
    "from fairlearn.datasets import fetch_adult, fetch_acs_income\n",
    "from aif360.datasets import AdultDataset\n",
    "import pandas as pd\n",
    "from sklearn.model_selection import train_test_split\n",
    "from sklearn.preprocessing import OneHotEncoder, LabelBinarizer\n",
    "from sklearn.compose import (\n",
    "    ColumnTransformer,\n",
    "    make_column_selector,\n",
    "    make_column_transformer,\n",
    ")\n",
    "from tqdm import tqdm"
   ]
  },
  {
   "cell_type": "code",
   "execution_count": 26,
   "id": "928af914",
   "metadata": {},
   "outputs": [],
   "source": [
    "adult = fetch_adult()\n",
    "\n",
    "target_map = {\"<=50K\": 0, \">50K\": 1}\n",
    "X = adult[\"data\"].drop(columns=\"fnlwgt\")\n",
    "\n",
    "categorical_cols = X.select_dtypes(include=[\"category\"]).columns\n",
    "numerical_cols = X.select_dtypes(include=[\"int\", \"float\"]).columns\n",
    "X[categorical_cols] = X[categorical_cols].astype(\"object\")\n",
    "\n",
    "X.fillna(\"Missing\", inplace=True)\n",
    "y = adult[\"target\"].map(target_map)\n",
    "X_train, X_test, y_train, y_test = train_test_split(X, y, test_size=0.2, stratify=y)"
   ]
  },
  {
   "cell_type": "code",
   "execution_count": 27,
   "id": "55a1686e",
   "metadata": {},
   "outputs": [],
   "source": [
    "from sklearn.preprocessing import StandardScaler\n",
    "\n",
    "\n",
    "preprocessor = ColumnTransformer(\n",
    "    [\n",
    "        (\"scale\", StandardScaler(), numerical_cols),\n",
    "        (\n",
    "            \"onehot\",\n",
    "            OneHotEncoder(handle_unknown=\"ignore\", sparse_output=False),\n",
    "            categorical_cols,\n",
    "        ),\n",
    "    ],\n",
    "    remainder=\"passthrough\",\n",
    ")"
   ]
  },
  {
   "cell_type": "code",
   "execution_count": 28,
   "id": "0c2f9129",
   "metadata": {},
   "outputs": [],
   "source": [
    "from sklearn.ensemble import (\n",
    "    RandomForestClassifier,\n",
    "    HistGradientBoostingClassifier,\n",
    "    GradientBoostingClassifier,\n",
    ")\n",
    "from sklearn.model_selection import cross_val_score, cross_validate\n",
    "from sklearn.linear_model import LogisticRegression\n",
    "from sklearn.pipeline import Pipeline\n",
    "\n",
    "estimators = {\n",
    "    \"RandomForest\": RandomForestClassifier(),\n",
    "    \"HistGB\": HistGradientBoostingClassifier(),\n",
    "    \"GB\": GradientBoostingClassifier(),\n",
    "    \"LogReg\": LogisticRegression(),\n",
    "}"
   ]
  },
  {
   "cell_type": "code",
   "execution_count": null,
   "id": "b07576a3",
   "metadata": {},
   "outputs": [],
   "source": [
    "results = {}\n",
    "metrics = [\"f1\", \"accuracy\", \"precision\", \"recall\", \"roc_auc\"]\n",
    "for name, clf in estimators.items():\n",
    "\n",
    "    pipeline = Pipeline(\n",
    "        [\n",
    "            (\"preprocessor\", preprocessor),\n",
    "            (\"classifier\", clf),\n",
    "        ]\n",
    "    )\n",
    "    scores = cross_validate(\n",
    "        pipeline,\n",
    "        X_train,\n",
    "        y_train,\n",
    "        scoring=metrics,\n",
    "    )\n",
    "    results.update({name: scores})"
   ]
  },
  {
   "cell_type": "code",
   "execution_count": null,
   "id": "c6306f47",
   "metadata": {},
   "outputs": [],
   "source": [
    "results_mean = {}\n",
    "for est_name, metrics in results.items():\n",
    "    for metric_name, metric_values in metrics.items():\n",
    "        average = metric_values.mean().round(2)\n",
    "        if est_name not in results_mean:\n",
    "            results_mean[est_name] = {}\n",
    "        results_mean[est_name][metric_name] = average"
   ]
  },
  {
   "cell_type": "code",
   "execution_count": 53,
   "id": "a641b35d",
   "metadata": {},
   "outputs": [
    {
     "data": {
      "application/vnd.microsoft.datawrangler.viewer.v0+json": {
       "columns": [
        {
         "name": "index",
         "rawType": "object",
         "type": "string"
        },
        {
         "name": "fit_time",
         "rawType": "float64",
         "type": "float"
        },
        {
         "name": "score_time",
         "rawType": "float64",
         "type": "float"
        },
        {
         "name": "test_f1",
         "rawType": "float64",
         "type": "float"
        },
        {
         "name": "test_accuracy",
         "rawType": "float64",
         "type": "float"
        },
        {
         "name": "test_precision",
         "rawType": "float64",
         "type": "float"
        },
        {
         "name": "test_recall",
         "rawType": "float64",
         "type": "float"
        },
        {
         "name": "test_roc_auc",
         "rawType": "float64",
         "type": "float"
        }
       ],
       "conversionMethod": "pd.DataFrame",
       "ref": "d3bbfa19-491d-4347-bfe8-f7c6c9628eda",
       "rows": [
        [
         "RandomForest",
         "2.42",
         "0.25",
         "0.66",
         "0.85",
         "0.71",
         "0.62",
         "0.89"
        ],
        [
         "HistGB",
         "0.92",
         "0.09",
         "0.71",
         "0.87",
         "0.78",
         "0.65",
         "0.93"
        ],
        [
         "GB",
         "5.7",
         "0.06",
         "0.69",
         "0.87",
         "0.79",
         "0.61",
         "0.92"
        ],
        [
         "LogReg",
         "2.36",
         "0.12",
         "0.66",
         "0.85",
         "0.73",
         "0.6",
         "0.91"
        ]
       ],
       "shape": {
        "columns": 7,
        "rows": 4
       }
      },
      "text/html": [
       "<div>\n",
       "<style scoped>\n",
       "    .dataframe tbody tr th:only-of-type {\n",
       "        vertical-align: middle;\n",
       "    }\n",
       "\n",
       "    .dataframe tbody tr th {\n",
       "        vertical-align: top;\n",
       "    }\n",
       "\n",
       "    .dataframe thead th {\n",
       "        text-align: right;\n",
       "    }\n",
       "</style>\n",
       "<table border=\"1\" class=\"dataframe\">\n",
       "  <thead>\n",
       "    <tr style=\"text-align: right;\">\n",
       "      <th></th>\n",
       "      <th>fit_time</th>\n",
       "      <th>score_time</th>\n",
       "      <th>test_f1</th>\n",
       "      <th>test_accuracy</th>\n",
       "      <th>test_precision</th>\n",
       "      <th>test_recall</th>\n",
       "      <th>test_roc_auc</th>\n",
       "    </tr>\n",
       "  </thead>\n",
       "  <tbody>\n",
       "    <tr>\n",
       "      <th>RandomForest</th>\n",
       "      <td>2.42</td>\n",
       "      <td>0.25</td>\n",
       "      <td>0.66</td>\n",
       "      <td>0.85</td>\n",
       "      <td>0.71</td>\n",
       "      <td>0.62</td>\n",
       "      <td>0.89</td>\n",
       "    </tr>\n",
       "    <tr>\n",
       "      <th>HistGB</th>\n",
       "      <td>0.92</td>\n",
       "      <td>0.09</td>\n",
       "      <td>0.71</td>\n",
       "      <td>0.87</td>\n",
       "      <td>0.78</td>\n",
       "      <td>0.65</td>\n",
       "      <td>0.93</td>\n",
       "    </tr>\n",
       "    <tr>\n",
       "      <th>GB</th>\n",
       "      <td>5.70</td>\n",
       "      <td>0.06</td>\n",
       "      <td>0.69</td>\n",
       "      <td>0.87</td>\n",
       "      <td>0.79</td>\n",
       "      <td>0.61</td>\n",
       "      <td>0.92</td>\n",
       "    </tr>\n",
       "    <tr>\n",
       "      <th>LogReg</th>\n",
       "      <td>2.36</td>\n",
       "      <td>0.12</td>\n",
       "      <td>0.66</td>\n",
       "      <td>0.85</td>\n",
       "      <td>0.73</td>\n",
       "      <td>0.60</td>\n",
       "      <td>0.91</td>\n",
       "    </tr>\n",
       "  </tbody>\n",
       "</table>\n",
       "</div>"
      ],
      "text/plain": [
       "              fit_time  score_time  test_f1  test_accuracy  test_precision  \\\n",
       "RandomForest      2.42        0.25     0.66           0.85            0.71   \n",
       "HistGB            0.92        0.09     0.71           0.87            0.78   \n",
       "GB                5.70        0.06     0.69           0.87            0.79   \n",
       "LogReg            2.36        0.12     0.66           0.85            0.73   \n",
       "\n",
       "              test_recall  test_roc_auc  \n",
       "RandomForest         0.62          0.89  \n",
       "HistGB               0.65          0.93  \n",
       "GB                   0.61          0.92  \n",
       "LogReg               0.60          0.91  "
      ]
     },
     "execution_count": 53,
     "metadata": {},
     "output_type": "execute_result"
    }
   ],
   "source": [
    "pd.DataFrame(results_mean).T"
   ]
  },
  {
   "cell_type": "code",
   "execution_count": 54,
   "id": "c8008af1",
   "metadata": {},
   "outputs": [],
   "source": [
    "from sklearn.metrics import (\n",
    "    accuracy_score,\n",
    "    precision_score,\n",
    "    recall_score,\n",
    "    f1_score,\n",
    "    roc_auc_score,\n",
    ")\n",
    "\n",
    "test_results = {}\n",
    "\n",
    "for name, clf in estimators.items():\n",
    "    pipeline = Pipeline(\n",
    "        [\n",
    "            (\"preprocessor\", preprocessor),\n",
    "            (\"classifier\", clf),\n",
    "        ]\n",
    "    )\n",
    "\n",
    "    pipeline.fit(X_train, y_train)\n",
    "    y_pred = pipeline.predict(X_test)\n",
    "    y_proba = (\n",
    "        pipeline.predict_proba(X_test)[:, 1]\n",
    "        if hasattr(pipeline.named_steps[\"classifier\"], \"predict_proba\")\n",
    "        else None\n",
    "    )\n",
    "\n",
    "    test_scores = {\n",
    "        \"accuracy\": accuracy_score(y_test, y_pred),\n",
    "        \"precision\": precision_score(y_test, y_pred),\n",
    "        \"recall\": recall_score(y_test, y_pred),\n",
    "        \"f1\": f1_score(y_test, y_pred),\n",
    "    }\n",
    "\n",
    "    if y_proba is not None:\n",
    "        test_scores[\"roc_auc\"] = roc_auc_score(y_test, y_proba)\n",
    "\n",
    "    test_results[name] = test_scores"
   ]
  },
  {
   "cell_type": "code",
   "execution_count": 58,
   "id": "c804471b",
   "metadata": {},
   "outputs": [
    {
     "data": {
      "application/vnd.microsoft.datawrangler.viewer.v0+json": {
       "columns": [
        {
         "name": "index",
         "rawType": "object",
         "type": "string"
        },
        {
         "name": "accuracy",
         "rawType": "float64",
         "type": "float"
        },
        {
         "name": "precision",
         "rawType": "float64",
         "type": "float"
        },
        {
         "name": "recall",
         "rawType": "float64",
         "type": "float"
        },
        {
         "name": "f1",
         "rawType": "float64",
         "type": "float"
        },
        {
         "name": "roc_auc",
         "rawType": "float64",
         "type": "float"
        }
       ],
       "conversionMethod": "pd.DataFrame",
       "ref": "5cb6896f-45a7-4a6c-b436-1bfc899dc8b2",
       "rows": [
        [
         "RandomForest",
         "0.85",
         "0.71",
         "0.63",
         "0.67",
         "0.9"
        ],
        [
         "HistGB",
         "0.88",
         "0.8",
         "0.65",
         "0.72",
         "0.93"
        ],
        [
         "GB",
         "0.87",
         "0.8",
         "0.59",
         "0.68",
         "0.92"
        ],
        [
         "LogReg",
         "0.85",
         "0.74",
         "0.59",
         "0.66",
         "0.91"
        ]
       ],
       "shape": {
        "columns": 5,
        "rows": 4
       }
      },
      "text/html": [
       "<div>\n",
       "<style scoped>\n",
       "    .dataframe tbody tr th:only-of-type {\n",
       "        vertical-align: middle;\n",
       "    }\n",
       "\n",
       "    .dataframe tbody tr th {\n",
       "        vertical-align: top;\n",
       "    }\n",
       "\n",
       "    .dataframe thead th {\n",
       "        text-align: right;\n",
       "    }\n",
       "</style>\n",
       "<table border=\"1\" class=\"dataframe\">\n",
       "  <thead>\n",
       "    <tr style=\"text-align: right;\">\n",
       "      <th></th>\n",
       "      <th>accuracy</th>\n",
       "      <th>precision</th>\n",
       "      <th>recall</th>\n",
       "      <th>f1</th>\n",
       "      <th>roc_auc</th>\n",
       "    </tr>\n",
       "  </thead>\n",
       "  <tbody>\n",
       "    <tr>\n",
       "      <th>RandomForest</th>\n",
       "      <td>0.85</td>\n",
       "      <td>0.71</td>\n",
       "      <td>0.63</td>\n",
       "      <td>0.67</td>\n",
       "      <td>0.90</td>\n",
       "    </tr>\n",
       "    <tr>\n",
       "      <th>HistGB</th>\n",
       "      <td>0.88</td>\n",
       "      <td>0.80</td>\n",
       "      <td>0.65</td>\n",
       "      <td>0.72</td>\n",
       "      <td>0.93</td>\n",
       "    </tr>\n",
       "    <tr>\n",
       "      <th>GB</th>\n",
       "      <td>0.87</td>\n",
       "      <td>0.80</td>\n",
       "      <td>0.59</td>\n",
       "      <td>0.68</td>\n",
       "      <td>0.92</td>\n",
       "    </tr>\n",
       "    <tr>\n",
       "      <th>LogReg</th>\n",
       "      <td>0.85</td>\n",
       "      <td>0.74</td>\n",
       "      <td>0.59</td>\n",
       "      <td>0.66</td>\n",
       "      <td>0.91</td>\n",
       "    </tr>\n",
       "  </tbody>\n",
       "</table>\n",
       "</div>"
      ],
      "text/plain": [
       "              accuracy  precision  recall    f1  roc_auc\n",
       "RandomForest      0.85       0.71    0.63  0.67     0.90\n",
       "HistGB            0.88       0.80    0.65  0.72     0.93\n",
       "GB                0.87       0.80    0.59  0.68     0.92\n",
       "LogReg            0.85       0.74    0.59  0.66     0.91"
      ]
     },
     "execution_count": 58,
     "metadata": {},
     "output_type": "execute_result"
    }
   ],
   "source": [
    "pd.DataFrame(test_results).round(2).T"
   ]
  },
  {
   "cell_type": "code",
   "execution_count": 59,
   "id": "0f5c8d6f",
   "metadata": {},
   "outputs": [
    {
     "data": {
      "image/png": "[encoded data removed]",
      "text/plain": [
       "<Figure size 640x480 with 1 Axes>"
      ]
     },
     "metadata": {},
     "output_type": "display_data"
    }
   ],
   "source": [
    "from sklearn.metrics import RocCurveDisplay\n",
    "\n",
    "histgb = Pipeline(\n",
    "    [\n",
    "        (\"preprocessor\", preprocessor),\n",
    "        (\"classifier\", HistGradientBoostingClassifier()),\n",
    "    ]\n",
    ")\n",
    "\n",
    "histgb.fit(X_train, y_train)\n",
    "svc_disp = RocCurveDisplay.from_estimator(histgb, X_test, y_test)"
   ]
  },
  {
   "cell_type": "code",
   "execution_count": 66,
   "id": "72e9e90a",
   "metadata": {},
   "outputs": [
    {
     "data": {
      "text/plain": [
       "<sklearn.metrics._plot.roc_curve.RocCurveDisplay at 0x78745616f340>"
      ]
     },
     "execution_count": 66,
     "metadata": {},
     "output_type": "execute_result"
    },
    {
     "data": {
      "image/png": "[encoded data removed]",
      "text/plain": [
       "<Figure size 640x480 with 1 Axes>"
      ]
     },
     "metadata": {},
     "output_type": "display_data"
    }
   ],
   "source": [
    "import matplotlib.pyplot as plt\n",
    "\n",
    "rf = Pipeline(\n",
    "    [\n",
    "        (\"preprocessor\", preprocessor),\n",
    "        (\"classifier\", LogisticRegression()),\n",
    "    ]\n",
    ")\n",
    "\n",
    "rf.fit(X_train, y_train)\n",
    "ax = plt.gca()\n",
    "RocCurveDisplay.from_estimator(rf, X_test, y_test, ax=ax, name=\"RF\")\n",
    "RocCurveDisplay.from_estimator(histgb, X_test, y_test, ax=ax)"
   ]
  }
 ],
 "metadata": {
  "kernelspec": {
   "display_name": ".venv",
   "language": "python",
   "name": "python3"
  },
  "language_info": {
   "codemirror_mode": {
    "name": "ipython",
    "version": 3
   },
   "file_extension": ".py",
   "mimetype": "text/x-python",
   "name": "python",
   "nbconvert_exporter": "python",
   "pygments_lexer": "ipython3",
   "version": "3.10.11"
  }
 },
 "nbformat": 4,
 "nbformat_minor": 5
}
